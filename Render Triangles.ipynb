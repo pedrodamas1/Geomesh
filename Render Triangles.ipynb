{
 "cells": [
  {
   "cell_type": "markdown",
   "metadata": {},
   "source": [
    "Comments"
   ]
  },
  {
   "cell_type": "code",
   "execution_count": 19,
   "metadata": {},
   "outputs": [
    {
     "name": "stdout",
     "output_type": "stream",
     "text": [
      "current point: -60809.8161743163, -60904.495\n"
     ]
    },
    {
     "ename": "ValueError",
     "evalue": "Coordinates must be a numpy array of shape (3, 3).",
     "output_type": "error",
     "traceback": [
      "\u001b[1;31m---------------------------------------------------------------------------\u001b[0m",
      "\u001b[1;31mValueError\u001b[0m                                Traceback (most recent call last)",
      "Cell \u001b[1;32mIn[19], line 27\u001b[0m\n\u001b[0;32m     25\u001b[0m area_ABC \u001b[38;5;241m=\u001b[39m triangle\u001b[38;5;241m.\u001b[39mcalculate_area()\n\u001b[0;32m     26\u001b[0m \u001b[38;5;66;03m# Calculate barycentric coordinates\u001b[39;00m\n\u001b[1;32m---> 27\u001b[0m alpha \u001b[38;5;241m=\u001b[39m \u001b[43mTriangle\u001b[49m\u001b[43m(\u001b[49m\u001b[43m \u001b[49m\u001b[43mnp\u001b[49m\u001b[38;5;241;43m.\u001b[39;49m\u001b[43marray\u001b[49m\u001b[43m(\u001b[49m\u001b[43m[\u001b[49m\u001b[43mA\u001b[49m\u001b[43m,\u001b[49m\u001b[43m \u001b[49m\u001b[43mP\u001b[49m\u001b[43m,\u001b[49m\u001b[43m \u001b[49m\u001b[43mB\u001b[49m\u001b[43m]\u001b[49m\u001b[43m)\u001b[49m\u001b[43m \u001b[49m\u001b[43m)\u001b[49m\u001b[38;5;241m.\u001b[39mcalculate_area() \u001b[38;5;241m/\u001b[39m triangle\u001b[38;5;241m.\u001b[39mcalculate_area()\n\u001b[0;32m     28\u001b[0m beta \u001b[38;5;241m=\u001b[39m Triangle( np\u001b[38;5;241m.\u001b[39marray([B, P, C]) )\u001b[38;5;241m.\u001b[39mcalculate_area() \u001b[38;5;241m/\u001b[39m triangle\u001b[38;5;241m.\u001b[39mcalculate_area()\n\u001b[0;32m     29\u001b[0m gamma \u001b[38;5;241m=\u001b[39m Triangle( np\u001b[38;5;241m.\u001b[39marray([C, P, A]) )\u001b[38;5;241m.\u001b[39mcalculate_area() \u001b[38;5;241m/\u001b[39m triangle\u001b[38;5;241m.\u001b[39mcalculate_area()\n",
      "File \u001b[1;32mc:\\Users\\Pedro Damas\\OneDrive - Hyperion Energy Investments SGPS, S.A\\Documentos\\Triangle\\topography\\triangle.py:16\u001b[0m, in \u001b[0;36mTriangle.__init__\u001b[1;34m(self, coordinates)\u001b[0m\n\u001b[0;32m      9\u001b[0m \u001b[38;5;250m\u001b[39m\u001b[38;5;124;03m\"\"\"\u001b[39;00m\n\u001b[0;32m     10\u001b[0m \u001b[38;5;124;03mInitialize the Triangle object with coordinates A, B, C.\u001b[39;00m\n\u001b[0;32m     11\u001b[0m \n\u001b[0;32m     12\u001b[0m \u001b[38;5;124;03mParameters:\u001b[39;00m\n\u001b[0;32m     13\u001b[0m \u001b[38;5;124;03mcoordinates (numpy.ndarray): Array of shape (3, 3) representing the vertices of the triangle.\u001b[39;00m\n\u001b[0;32m     14\u001b[0m \u001b[38;5;124;03m\"\"\"\u001b[39;00m\n\u001b[0;32m     15\u001b[0m \u001b[38;5;28;01mif\u001b[39;00m \u001b[38;5;129;01mnot\u001b[39;00m \u001b[38;5;28misinstance\u001b[39m(coordinates, np\u001b[38;5;241m.\u001b[39mndarray) \u001b[38;5;129;01mor\u001b[39;00m coordinates\u001b[38;5;241m.\u001b[39mshape \u001b[38;5;241m!=\u001b[39m (\u001b[38;5;241m3\u001b[39m, \u001b[38;5;241m3\u001b[39m):\n\u001b[1;32m---> 16\u001b[0m \t\u001b[38;5;28;01mraise\u001b[39;00m \u001b[38;5;167;01mValueError\u001b[39;00m(\u001b[38;5;124m\"\u001b[39m\u001b[38;5;124mCoordinates must be a numpy array of shape (3, 3).\u001b[39m\u001b[38;5;124m\"\u001b[39m)\n\u001b[0;32m     17\u001b[0m \u001b[38;5;28mself\u001b[39m\u001b[38;5;241m.\u001b[39mcoordinates \u001b[38;5;241m=\u001b[39m coordinates\n",
      "\u001b[1;31mValueError\u001b[0m: Coordinates must be a numpy array of shape (3, 3)."
     ]
    }
   ],
   "source": [
    "from topography.topography import Topography\n",
    "import matplotlib.pyplot as plt\n",
    "import pandas as pd\n",
    "import numpy as np\n",
    "from topography.triangle import Triangle\n",
    "\n",
    "df = pd.read_excel('data/points.xlsx')\n",
    "df = df.drop_duplicates().sort_values('x')\n",
    "points = df.to_numpy()\n",
    "topography = Topography(points[600:604])\n",
    "\n",
    "xmin, ymin, zmin = df.min()\n",
    "xmax, ymax, zmax = df.max()\n",
    "\n",
    "xx = np.linspace(xmin, xmax, 3)\n",
    "yy = np.linspace(ymin, ymax, 3)\n",
    "# X, Y = np.meshgrid(x, y)\n",
    "\n",
    "for x in xx:\n",
    "\tfor y in yy:\n",
    "\t\tprint(f'current point: {x}, {y}')\n",
    "\t\tfor triangle in topography.get_triangles():\n",
    "\t\t\tP = np.array([x,y,0])\n",
    "\n",
    "\n",
    "# fig = plt.figure()\n",
    "# ax = fig.add_subplot(1, 1, 1, projection='3d')\n",
    "# ax.plot_trisurf(*topography.points.T, triangles=topography.get_simplices(), cmap=plt.cm.Spectral)\n",
    "# ax.quiver(*topography.get_centroids().T, *topography.get_normals().T, color='red')\n",
    "# ax.set_xlim(-1.5,1.5)\n",
    "# ax.set_ylim(-1.5,1.5)\n",
    "# ax.set_aspect('equal')\n",
    "# plt.show()"
   ]
  }
 ],
 "metadata": {
  "kernelspec": {
   "display_name": "Python 3",
   "language": "python",
   "name": "python3"
  },
  "language_info": {
   "codemirror_mode": {
    "name": "ipython",
    "version": 3
   },
   "file_extension": ".py",
   "mimetype": "text/x-python",
   "name": "python",
   "nbconvert_exporter": "python",
   "pygments_lexer": "ipython3",
   "version": "3.11.7"
  }
 },
 "nbformat": 4,
 "nbformat_minor": 2
}
